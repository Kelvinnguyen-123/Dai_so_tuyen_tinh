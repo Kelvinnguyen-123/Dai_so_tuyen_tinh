{
 "cells": [
  {
   "cell_type": "code",
   "execution_count": null,
   "id": "0bbf1f1a",
   "metadata": {},
   "outputs": [],
   "source": [
    "#1.1.Một số phép xử lý ma trận của NumPy và Scipy\n",
    "from scipy import linalg\n",
    "import numpy as np\n",
    "a = np.array([1,2,3])\n",
    "b= np.array([(1+9j,2j,3j),(4j,5j,6j)])\n",
    "c = np.array([[(0.5,1.5,10),(3,2,1)], [(6,5,4), (7,8,9)]])\n",
    "A = np.matrix(np.random.random( (2,2) ) ) \n",
    "B = np.asmatrix(b) \n",
    "C = np.asmatrix(np.random.random( (10,5) ) )\n",
    "print(np.linalg.matrix_rank(C))\n",
    "D = np.matrix([ [4, 3], [2, 6] ]) \n",
    "F1 = np.eye(3, k=1)\n",
    "print(F1)\n",
    "F2 = np.eye(3, k=0)\n",
    "print(F2)\n",
    "F3 = np.eye(3, k=-1)\n",
    "print(F3)\n",
    "print(np.linalg.matrix_rank(C))\n",
    "print((A.I))\n",
    "print(linalg.inv(A))\n",
    "print(np.linalg.det(A))\n",
    "print(A.T)\n",
    "print(A.H)\n",
    "print('Giải các loại phương trình tuyến tính: ')\n",
    "print(np.linalg.solve(A, b))\n",
    "E= np.matrix(a).T\n",
    "print(E)\n",
    "print(linalg.lstsq(F1,E))\n",
    "print('Các hàm trên ma trận:')\n",
    "print(np.add(A,D))\n",
    "print(np.subtract(A,D)) \n",
    "print(np.divide(A,D))\n",
    "print(A@D)\n",
    "print(np.multiply(D,A))\n",
    "print(np.dot(A,D))\n",
    "print(np.vdot(A,D))\n",
    "print(linalg.expm(A))\n",
    "print(linalg.logm(A))\n"
   ]
  },
  {
   "cell_type": "code",
   "execution_count": null,
   "id": "1e515e3a",
   "metadata": {},
   "outputs": [],
   "source": [
    "#2.3. Ma trận hội tụ\n",
    "#Ma trận phân kỳ\n",
    "A = np.array([ [0,1], [1,0]])\n",
    "print(A) \n",
    "temp = A.dot(A)\n",
    "print(temp) \n",
    "k= 6\n",
    "for i in range(k-1):\n",
    "    temp = A.dot(temp)\n",
    "    print(temp)\n",
    "    print('---')\n",
    "\n",
    "B = np.array([ [0,-1], [-1,0]])\n",
    "print(B)\n",
    "temp = B.dot(B)\n",
    "print(temp)\n",
    "k= 5\n",
    "for i in range(k-1):\n",
    "    temp = temp.dot(B)\n",
    "    print(temp)\n",
    "    print('---')\n",
    "#Ma trận hội tụ\n",
    "C = np.array([ [1, 0, 0], [0, 0.5, 1], [0, 0, 0.5] ])\n",
    "print(C)\n",
    "temp = C.dot(C)\n",
    "print(temp)\n",
    "k= 1000\n",
    "for i in range(k-1):\n",
    "    temp = temp.dot(C)\n",
    "print(temp)\n",
    "k= 1000\n",
    "for i in range(k-1):\n",
    "    temp = temp.dot(C)\n",
    "print(temp)"
   ]
  },
  {
   "cell_type": "code",
   "execution_count": null,
   "id": "bfb64c30",
   "metadata": {},
   "outputs": [],
   "source": [
    "#2.4. Ma trận Markov\n",
    "M = np.array([ [0.8, 0.3], [0.2, 0.7]])\n",
    "MM = M.dot(M)\n",
    "print (MM)\n",
    "MM = M.dot(MM)\n",
    "print (MM)\n",
    "for i in range(100):\n",
    "    MM = M.dot(MM)\n",
    "print (MM)\n"
   ]
  },
  {
   "cell_type": "code",
   "execution_count": null,
   "id": "71413bd6",
   "metadata": {},
   "outputs": [],
   "source": [
    "#3. Phương trình ma trận\n",
    "#3.2. Phân rã ma trận LU\n"
   ]
  }
 ],
 "metadata": {
  "kernelspec": {
   "display_name": "Python 3",
   "language": "python",
   "name": "python3"
  },
  "language_info": {
   "codemirror_mode": {
    "name": "ipython",
    "version": 3
   },
   "file_extension": ".py",
   "mimetype": "text/x-python",
   "name": "python",
   "nbconvert_exporter": "python",
   "pygments_lexer": "ipython3",
   "version": "3.13.0"
  }
 },
 "nbformat": 4,
 "nbformat_minor": 5
}
