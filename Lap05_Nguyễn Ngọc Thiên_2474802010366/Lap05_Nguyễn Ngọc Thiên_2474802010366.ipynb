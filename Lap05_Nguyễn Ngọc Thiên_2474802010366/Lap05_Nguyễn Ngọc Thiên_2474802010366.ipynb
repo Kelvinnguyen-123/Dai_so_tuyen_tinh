{
 "cells": [
  {
   "cell_type": "code",
   "execution_count": 2,
   "id": "5b03de1a",
   "metadata": {},
   "outputs": [
    {
     "name": "stdout",
     "output_type": "stream",
     "text": [
      "None\n",
      "None\n",
      "[[1 2]\n",
      " [3 4]]\n"
     ]
    }
   ],
   "source": [
    "import numpy as np\n",
    "D = np.array([[1,2],[3,4]])\n",
    "print(np.copyto(E,D))\n",
    "E = np.array([[1,2],[3,5]])\n",
    "print(np.copyto(E,D))\n",
    "print(E)"
   ]
  },
  {
   "cell_type": "code",
   "execution_count": 5,
   "id": "0cbd5157",
   "metadata": {},
   "outputs": [
    {
     "name": "stdout",
     "output_type": "stream",
     "text": [
      "[[array([['a', 'b'],\n",
      "         ['c', 'd']], dtype='<U1') 'x']\n",
      " [1 2]]\n"
     ]
    }
   ],
   "source": [
    "import numpy as np\n",
    "x= np.array([['a','b'],['c','d']])\n",
    "y= 'x'\n",
    "C = np.array([[x, y], [1, 2]], dtype=object)\n",
    "print(C)"
   ]
  },
  {
   "cell_type": "code",
   "execution_count": null,
   "id": "d7ccd626",
   "metadata": {},
   "outputs": [],
   "source": [
    "import numpy as np\n",
    "A = np.matrix([[[1,2],[3,4]],[[5,6],[7,8]]]) \n",
    "print(A)"
   ]
  },
  {
   "cell_type": "code",
   "execution_count": 8,
   "id": "e4bf09c7",
   "metadata": {},
   "outputs": [
    {
     "name": "stdout",
     "output_type": "stream",
     "text": [
      "[[[1 2]\n",
      "  [3 4]]\n",
      "\n",
      " [[5 6]\n",
      "  [7 8]]]\n"
     ]
    }
   ],
   "source": [
    "import numpy as np\n",
    "A = np.array([[[1,2],[3,4]],[[5,6],[7,8]]])\n",
    "print(A)"
   ]
  },
  {
   "cell_type": "code",
   "execution_count": null,
   "id": "b59c9ad1",
   "metadata": {},
   "outputs": [
    {
     "name": "stdout",
     "output_type": "stream",
     "text": [
      "[[1. 0. 0. 0. 0.]\n",
      " [0. 1. 0. 0. 0.]\n",
      " [0. 0. 1. 0. 0.]\n",
      " [0. 0. 0. 1. 0.]\n",
      " [0. 0. 0. 0. 1.]]\n"
     ]
    }
   ],
   "source": [
    "from numpy import matlib \n",
    "G = matlib.identity(5)\n",
    "print (G)"
   ]
  },
  {
   "cell_type": "code",
   "execution_count": null,
   "id": "11b328d2",
   "metadata": {},
   "outputs": [
    {
     "name": "stdout",
     "output_type": "stream",
     "text": [
      "[[ 0.64189871  1.78329382]\n",
      " [-1.77350555 -1.16671526]\n",
      " [-0.18093944 -0.33490471]]\n"
     ]
    }
   ],
   "source": [
    "H = matlib.randn(3,2)\n",
    "print(H)"
   ]
  },
  {
   "cell_type": "code",
   "execution_count": 12,
   "id": "ff794b40",
   "metadata": {},
   "outputs": [
    {
     "name": "stdout",
     "output_type": "stream",
     "text": [
      "[[0. 0. 0. 0.]\n",
      " [0. 0. 0. 0.]\n",
      " [0. 0. 0. 0.]\n",
      " [0. 0. 0. 0.]]\n"
     ]
    }
   ],
   "source": [
    "K = matlib.zeros([4,4])\n",
    "print(K)"
   ]
  },
  {
   "cell_type": "code",
   "execution_count": 15,
   "id": "8251553c",
   "metadata": {},
   "outputs": [
    {
     "name": "stdout",
     "output_type": "stream",
     "text": [
      "[[165707065  80143857]\n",
      " [ 52746197  25510582]]\n",
      "3.1415926535897936\n"
     ]
    }
   ],
   "source": [
    "import numpy as np \n",
    "c = [3, 7, 15, 1, 292, 1, 1, 1, 2, 1, 3, 1, 14, 2] \n",
    "M = np.matrix([[1,2],[3,4]])\n",
    "for i in range(len(c)): \n",
    "    ci = np.matrix([[1,1],[1,0]]) \n",
    "    ci[0, 0] = c[i] \n",
    "    if (i==0): \n",
    "        M = ci \n",
    "    else: \n",
    "         M = M.dot(ci) \n",
    "print(M) \n",
    "print (M[0,0]/M[1,0])"
   ]
  },
  {
   "cell_type": "code",
   "execution_count": null,
   "id": "8c30d455",
   "metadata": {},
   "outputs": [
    {
     "name": "stdout",
     "output_type": "stream",
     "text": [
      "[[1 1 1 1 1]\n",
      " [1 2 3 4 5]]\n",
      "[[ 1.1 -0.3]\n",
      " [-0.3  0.1]]\n",
      "[[15]\n",
      " [55]]\n"
     ]
    }
   ],
   "source": [
    "import numpy as np\n",
    "X = np.array([[1, 1],\n",
    "              [1, 2],\n",
    "              [1, 3],\n",
    "              [1, 4],\n",
    "              [1, 5]])\n",
    "Y = np.array([[1],\n",
    "              [2],\n",
    "              [3],\n",
    "              [4],\n",
    "              [5]])\n",
    "XT = X.T\n",
    "print(XT)\n",
    "A1 = np.linalg.inv(XT.dot(X))\n",
    "A2 = XT.dot(Y)\n",
    "print(A1)\n",
    "print(A2)\n",
    "A = A1.dot(A2)\n",
    "print(A)"
   ]
  },
  {
   "cell_type": "markdown",
   "id": "e96db8ac",
   "metadata": {},
   "source": [
    "### BÀI TẬP CHƯƠNG 5\n"
   ]
  },
  {
   "cell_type": "code",
   "execution_count": 21,
   "id": "678f31f0",
   "metadata": {},
   "outputs": [
    {
     "name": "stdout",
     "output_type": "stream",
     "text": [
      "Phương trình tuyến tính: y = 12.1 + (-1.9)·x\n"
     ]
    }
   ],
   "source": [
    "import numpy as np\n",
    "def bpcuctieu(a): \n",
    "    b = []\n",
    "    o1 = []\n",
    "    for i in range(len(a)): \n",
    "        o1.append(1.0)\n",
    "        b.append((i+1)*1.0) \n",
    "    x = np.array([o1, b])\n",
    "    u = np.dot(x, x.T)\n",
    "    y = np.array(a)\n",
    "    from numpy import linalg \n",
    "    u_1 =np.linalg.inv(u)\n",
    "    v = np.dot(u_1, x) \n",
    "    A = np.dot(v, y)\n",
    "    return A \n",
    "dulieu = [10.0, 8, 7, 5, 2]\n",
    "A = bpcuctieu(dulieu)\n",
    "print(f\"Phương trình tuyến tính: y = {A[0]:.1f} + ({A[1]:.1f})·x\")"
   ]
  }
 ],
 "metadata": {
  "kernelspec": {
   "display_name": "Python 3",
   "language": "python",
   "name": "python3"
  },
  "language_info": {
   "codemirror_mode": {
    "name": "ipython",
    "version": 3
   },
   "file_extension": ".py",
   "mimetype": "text/x-python",
   "name": "python",
   "nbconvert_exporter": "python",
   "pygments_lexer": "ipython3",
   "version": "3.13.0"
  }
 },
 "nbformat": 4,
 "nbformat_minor": 5
}
