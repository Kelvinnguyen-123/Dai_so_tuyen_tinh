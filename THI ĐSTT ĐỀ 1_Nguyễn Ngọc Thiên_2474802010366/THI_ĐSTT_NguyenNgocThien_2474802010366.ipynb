{
 "cells": [
  {
   "cell_type": "markdown",
   "id": "e5aab0bf",
   "metadata": {},
   "source": [
    "### THI THỰC HÀNH ĐẠI SỐ TUYẾN TÍNH (24/07/2025)\n",
    "##### Họ tên: Nguyễn Ngọc Thiên\n",
    "##### MSSV: 2474802010366\n",
    "#### Đề 01:"
   ]
  },
  {
   "cell_type": "markdown",
   "id": "61418ec6",
   "metadata": {},
   "source": [
    "##### Câu 1: Phép toán cơ bản trên vector và ma trận "
   ]
  },
  {
   "cell_type": "code",
   "execution_count": null,
   "id": "945c6a47",
   "metadata": {},
   "outputs": [
    {
     "name": "stdout",
     "output_type": "stream",
     "text": [
      "a)\n",
      "Tổng A + B: [2 3 1 6]\n",
      "Tích số 2A + 3B: [ 3 11  2 14]\n",
      "\n",
      "b)\n",
      "Tích vô hướng A · B: -5\n",
      "Góc giữa hai vector (độ): 99.594\n",
      "\n",
      "c)\n",
      "Ma trận C * C^T:\n",
      " [[14 -8 13]\n",
      " [-8 21 -2]\n",
      " [13 -2 29]]\n"
     ]
    }
   ],
   "source": [
    "import numpy as np\n",
    "\n",
    "# Khai báo vector và ma trận\n",
    "A = np.array([3, -2, 1, 4])\n",
    "B = np.array([-1, 5, 0, 2])\n",
    "C = np.array([\n",
    "    [2, -1, 3],\n",
    "    [1, 4, -2],\n",
    "    [0, 2, 5]\n",
    "])\n",
    "\n",
    "# a) Tính tổng A + B và tích số 2A + 3B\n",
    "tong_AB = A + B\n",
    "tich_2A_3B = 2*A + 3*B\n",
    "\n",
    "print(\"a)\")\n",
    "print(\"Tổng A + B:\", tong_AB)\n",
    "print(\"Tích số 2A + 3B:\", tich_2A_3B)\n",
    "\n",
    "# b) Tích vô hướng và góc giữa hai vector\n",
    "tich_vo_huong = np.dot(A, B)\n",
    "norm_A = np.linalg.norm(A)\n",
    "norm_B = np.linalg.norm(B)\n",
    "cos_theta = tich_vo_huong / (norm_A * norm_B)\n",
    "goc_do = np.degrees(np.arccos(cos_theta))\n",
    "\n",
    "print(\"\\nb)\")\n",
    "print(\"Tích vô hướng A · B:\", tich_vo_huong)\n",
    "print(\"Góc giữa hai vector (độ):\", round(goc_do, 3))\n",
    "\n",
    "# c) Tính tích ma trận C * C^T\n",
    "CCT = np.dot(C, C.T)\n",
    "print(\"\\nc)\")\n",
    "print(\"Ma trận C * C^T:\\n\", CCT)"
   ]
  },
  {
   "cell_type": "markdown",
   "id": "c06e6292",
   "metadata": {},
   "source": [
    "##### Câu 2: Nhân ma trận, định thức và hạng ma trận"
   ]
  },
  {
   "cell_type": "code",
   "execution_count": 6,
   "id": "6720f2c6",
   "metadata": {},
   "outputs": [
    {
     "name": "stdout",
     "output_type": "stream",
     "text": [
      "a)\n",
      "Tích ma trận M × N:\n",
      " [[ -2  13   0  -5]\n",
      " [  2   0  12  30]\n",
      " [ 17   7  28 -14]\n",
      " [-13   3   5  15]]\n",
      "\n",
      "b)\n",
      "Định thức của ma trận M: 409.0\n",
      "\n",
      "c)\n",
      "Hạng của ma trận N: 4\n"
     ]
    }
   ],
   "source": [
    "import numpy as np\n",
    "M = np.array([\n",
    "    [2, -1, 3, 0],\n",
    "    [1, 4, -2, 5],\n",
    "    [0, 2, 6, -3],\n",
    "    [-1, 0, 1, 4]\n",
    "])\n",
    "N = np.array([\n",
    "    [1, 3, -2, 0],\n",
    "    [4, -1, 5, 2],\n",
    "    [0, 2, 3, -1],\n",
    "    [-3, 1, 0, 4]\n",
    "])\n",
    "\n",
    "# a) Tính tích ma trận M × N\n",
    "tich_MN = np.dot(M, N)\n",
    "print(\"a)\")\n",
    "print(\"Tích ma trận M × N:\\n\", tich_MN)\n",
    "\n",
    "# b) Tính định thức của ma trận M\n",
    "try:\n",
    "    dinh_thuc_M = np.linalg.det(M)\n",
    "    print(\"\\nb)\")\n",
    "    print(\"Định thức của ma trận M:\", round(dinh_thuc_M, 3))\n",
    "except np.linalg.LinAlgError:\n",
    "    print(\"\\nb)\")\n",
    "    print(\"Không thể tính định thức vì M không phải là ma trận vuông.\")\n",
    "\n",
    "# c) Tính hạng của ma trận N\n",
    "hang_N = np.linalg.matrix_rank(N)\n",
    "print(\"\\nc)\")\n",
    "print(\"Hạng của ma trận N:\", hang_N)"
   ]
  },
  {
   "cell_type": "markdown",
   "id": "cfd2ae59",
   "metadata": {},
   "source": [
    "#####  Câu 3: Nghịch đảo ma trận và giải hệ phương trình"
   ]
  },
  {
   "cell_type": "code",
   "execution_count": null,
   "id": "822fb3b3",
   "metadata": {},
   "outputs": [
    {
     "name": "stdout",
     "output_type": "stream",
     "text": [
      "a)\n",
      "Ma trận nghịch đảo của P:\n",
      " [[ 0.5    0.1    0.1   -0.3  ]\n",
      " [-0.143  0.2    0.057  0.114]\n",
      " [-0.036 -0.05   0.164  0.079]\n",
      " [-0.321 -0.05  -0.121  0.507]]\n",
      "\n",
      "b)\n",
      "Nghiệm của hệ phương trình là:\n",
      " [2.    1.714 0.429 0.857]\n",
      "\n",
      "c)\n",
      "Kiểm tra nghiệm, P.x =\n",
      " [6. 8. 3. 7.]\n",
      "Vector hằng số b =\n",
      " [6 8 3 7]\n",
      "Nghiệm đúng.\n"
     ]
    }
   ],
   "source": [
    "import numpy as np\n",
    "P = np.array([\n",
    "    [3, -1, 0, 2],\n",
    "    [1, 4, -2, 0],\n",
    "    [0, 1, 5, -1],\n",
    "    [2, 0, 1, 3]\n",
    "])\n",
    "b = np.array([6, 8, 3, 7])\n",
    "\n",
    "# a) Tìm ma trận nghịch đảo của P\n",
    "try:\n",
    "    P_inv = np.linalg.inv(P)\n",
    "    print(\"a)\")\n",
    "    print(\"Ma trận nghịch đảo của P:\\n\", np.round(P_inv, 3))\n",
    "except np.linalg.LinAlgError:\n",
    "    print(\"a)\")\n",
    "    print(\"Ma trận P không khả nghịch vì định thức bằng 0.\")\n",
    "\n",
    "# b) Giải hệ phương trình bằng nghịch đảo ma trận\n",
    "if 'P_inv' in locals():\n",
    "    x = np.dot(P_inv, b)\n",
    "    print(\"\\nb)\")\n",
    "    print(\"Nghiệm của hệ phương trình là:\\n\", np.round(x, 3))\n",
    "else:\n",
    "    print(\"\\nb)\")\n",
    "    print(\"Không thể giải hệ bằng nghịch đảo vì P không khả nghịch.\")\n",
    "\n",
    "# c) Kiểm tra nghiệm\n",
    "if 'x' in locals():\n",
    "    b_check = np.dot(P, x)\n",
    "    print(\"\\nc)\")\n",
    "    print(\"Kiểm tra nghiệm, P.x =\\n\", np.round(b_check, 3))\n",
    "    print(\"Vector hằng số b =\\n\", b)\n",
    "else:\n",
    "    print(\"\\nc)\")\n",
    "    print(\"Không có nghiệm để kiểm tra.\")\n",
    "if np.allclose(b_check, b):\n",
    "    print(\"Nghiệm đúng.\")\n",
    "else:\n",
    "    print(\"Nghiệm không đúng.\")"
   ]
  },
  {
   "cell_type": "markdown",
   "id": "e9848387",
   "metadata": {},
   "source": [
    "##### Câu 4: Giá trị riêng, vector riêng và chuẩn hóa"
   ]
  },
  {
   "cell_type": "code",
   "execution_count": 4,
   "id": "67893395",
   "metadata": {},
   "outputs": [
    {
     "name": "stdout",
     "output_type": "stream",
     "text": [
      "a)\n",
      "Các giá trị riêng của Q: [6.355+0.j    2.822+1.077j 2.822-1.077j]\n",
      "\n",
      "b)\n",
      "Các vector riêng của Q (cột):\n",
      " [[ 0.748+0.j    -0.374+0.342j -0.374-0.342j]\n",
      " [-0.189+0.j     0.095+0.574j  0.095-0.574j]\n",
      " [ 0.636+0.j     0.636+0.j     0.636-0.j   ]]\n",
      "\n",
      "c)\n",
      "Các vector riêng đã chuẩn hóa (mỗi hàng là một vector):\n",
      " [[ 0.748+0.j    -0.189+0.j     0.636+0.j   ]\n",
      " [-0.374+0.342j  0.095+0.574j  0.636+0.j   ]\n",
      " [-0.374-0.342j  0.095-0.574j  0.636-0.j   ]]\n"
     ]
    }
   ],
   "source": [
    "import numpy as np\n",
    "Q = np.array([\n",
    "    [5, -2, 1],\n",
    "    [0, 3, -1],\n",
    "    [2, 0, 4]\n",
    "])\n",
    "\n",
    "# a) Tìm các giá trị riêng của Q\n",
    "eigenvalues, eigenvectors = np.linalg.eig(Q)\n",
    "print(\"a)\")\n",
    "print(\"Các giá trị riêng của Q:\", np.round(eigenvalues, 3))\n",
    "\n",
    "# b) Tìm các vector riêng tương ứng\n",
    "print(\"\\nb)\")\n",
    "print(\"Các vector riêng của Q (cột):\\n\", np.round(eigenvectors, 3))\n",
    "\n",
    "# c) Chuẩn hóa các vector riêng (độ dài bằng 1)\n",
    "print(\"\\nc)\")\n",
    "normalized_vectors = []\n",
    "for v in eigenvectors.T:\n",
    "    norm_v = v / np.linalg.norm(v)\n",
    "    normalized_vectors.append(norm_v)\n",
    "normalized_vectors = np.array(normalized_vectors)\n",
    "print(\"Các vector riêng đã chuẩn hóa (mỗi hàng là một vector):\\n\", np.round(normalized_vectors, 3))"
   ]
  },
  {
   "cell_type": "markdown",
   "id": "5dd91106",
   "metadata": {},
   "source": [
    "##### Câu 5: Ứng dụng thực tế - Hệ phương trình và phân tích"
   ]
  },
  {
   "cell_type": "code",
   "execution_count": 5,
   "id": "bb2778c5",
   "metadata": {},
   "outputs": [
    {
     "name": "stdout",
     "output_type": "stream",
     "text": [
      "a)\n",
      "Nghiệm của hệ Rx = b bằng np.linalg.solve():\n",
      " [2.788 1.529 1.188]\n",
      "\n",
      "b)\n",
      "Ma trận R khả nghịch. Ma trận nghịch đảo của R:\n",
      " [[ 0.224  0.106 -0.047]\n",
      " [-0.059  0.235  0.118]\n",
      " [ 0.024 -0.094  0.153]]\n",
      "Nghiệm của hệ bằng nghịch đảo:\n",
      " [2.788 1.529 1.188]\n",
      "So sánh hai nghiệm: True\n",
      "\n",
      "c)\n",
      "Chuẩn Frobenius của ma trận R: 8.0\n"
     ]
    }
   ],
   "source": [
    "import numpy as np\n",
    "R = np.array([\n",
    "    [4, -1, 2],\n",
    "    [1, 3, -2],\n",
    "    [0, 2, 5]\n",
    "])\n",
    "b = np.array([12, 5, 9])\n",
    "\n",
    "# a) Giải hệ phương trình Rx = b bằng np.linalg.solve()\n",
    "x1 = np.linalg.solve(R, b)\n",
    "print(\"a)\")\n",
    "print(\"Nghiệm của hệ Rx = b bằng np.linalg.solve():\\n\", np.round(x1, 3))\n",
    "\n",
    "# b) Kiểm tra khả nghịch, tính nghịch đảo và giải lại hệ\n",
    "det_R = np.linalg.det(R)\n",
    "if det_R != 0:\n",
    "    R_inv = np.linalg.inv(R)\n",
    "    x2 = np.dot(R_inv, b)\n",
    "    print(\"\\nb)\")\n",
    "    print(\"Ma trận R khả nghịch. Ma trận nghịch đảo của R:\\n\", np.round(R_inv, 3))\n",
    "    print(\"Nghiệm của hệ bằng nghịch đảo:\\n\", np.round(x2, 3))\n",
    "    print(\"So sánh hai nghiệm:\", np.allclose(x1, x2))\n",
    "else:\n",
    "    print(\"\\nb)\")\n",
    "    print(\"Ma trận R không khả nghịch (định thức bằng 0).\")\n",
    "\n",
    "# c) Tính chuẩn Frobenius của ma trận R\n",
    "fro_norm = np.linalg.norm(R, 'fro')\n",
    "print(\"\\nc)\")\n",
    "print(\"Chuẩn Frobenius của ma trận R:\", round(fro_norm, 3))"
   ]
  }
 ],
 "metadata": {
  "kernelspec": {
   "display_name": "Python 3",
   "language": "python",
   "name": "python3"
  },
  "language_info": {
   "codemirror_mode": {
    "name": "ipython",
    "version": 3
   },
   "file_extension": ".py",
   "mimetype": "text/x-python",
   "name": "python",
   "nbconvert_exporter": "python",
   "pygments_lexer": "ipython3",
   "version": "3.13.5"
  }
 },
 "nbformat": 4,
 "nbformat_minor": 5
}
