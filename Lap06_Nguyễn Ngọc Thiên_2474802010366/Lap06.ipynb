{
 "cells": [
  {
   "cell_type": "code",
   "execution_count": 19,
   "id": "c828d7ed",
   "metadata": {},
   "outputs": [
    {
     "name": "stdout",
     "output_type": "stream",
     "text": [
      "32\n",
      "32\n"
     ]
    }
   ],
   "source": [
    "#1.2.Tích vô hướng, trực giao và ứng dụng \n",
    "import numpy as np\n",
    "a = np.array([1, 2, 3])\n",
    "b = np.array([4, 5, 6])\n",
    "tich = np.inner(a,b)\n",
    "print (tich)\n",
    "c =np.dot(a,b)\n",
    "print(c)"
   ]
  },
  {
   "cell_type": "code",
   "execution_count": 20,
   "id": "62275e98",
   "metadata": {},
   "outputs": [
    {
     "name": "stdout",
     "output_type": "stream",
     "text": [
      "3.7416573867739413\n",
      "6.0\n"
     ]
    }
   ],
   "source": [
    "import numpy as np \n",
    "a = np.array([1,2,-3]) \n",
    "print(np.linalg.norm(a))\n",
    "print( np.linalg.norm(a,1))"
   ]
  },
  {
   "cell_type": "code",
   "execution_count": 21,
   "id": "bf39cd68",
   "metadata": {},
   "outputs": [
    {
     "name": "stdout",
     "output_type": "stream",
     "text": [
      "6.0\n",
      "6.0\n",
      "3.7416573867739413\n",
      "3.7416573867739413\n",
      "3.3019272488946263\n",
      "3.3019272488946263\n",
      "inf\n",
      "3.3019272488946263\n",
      "inf\n",
      "inf\n"
     ]
    },
    {
     "name": "stderr",
     "output_type": "stream",
     "text": [
      "C:\\Users\\Kevin Laptop\\AppData\\Roaming\\Python\\Python313\\site-packages\\numpy\\linalg\\_linalg.py:2788: RuntimeWarning: overflow encountered in power\n",
      "  absx **= ord\n"
     ]
    }
   ],
   "source": [
    "import math \n",
    "import numpy as np \n",
    "a = np.array([1,2,-3]) \n",
    "def chuan(a, p):\n",
    "    return np.linalg.norm(a, p)\n",
    "print(chuan(a, 1))\n",
    "print(np.linalg.norm(a,1))\n",
    "print(chuan(a, 2))\n",
    "print(np.linalg.norm(a,2))\n",
    "print(chuan(a, 3))\n",
    "print(np.linalg.norm(a,3))\n",
    "print(chuan(a, 1000))\n",
    "print(np.linalg.norm(a,3))\n",
    "print(chuan(a, 1000))\n",
    "print(np.linalg.norm(a,1000))"
   ]
  },
  {
   "cell_type": "code",
   "execution_count": 22,
   "id": "c7645116",
   "metadata": {},
   "outputs": [
    {
     "name": "stdout",
     "output_type": "stream",
     "text": [
      "3.7416573867739413\n",
      "3.0\n",
      "inf\n"
     ]
    }
   ],
   "source": [
    "from scipy import linalg \n",
    "print(linalg.norm(a)) \n",
    "print(linalg.norm(a, 100)) \n",
    "print(linalg.norm(a, 1000))"
   ]
  },
  {
   "cell_type": "code",
   "execution_count": 23,
   "id": "a3039038",
   "metadata": {},
   "outputs": [
    {
     "name": "stdout",
     "output_type": "stream",
     "text": [
      "[[ 5  4 -4 -9]\n",
      " [-4  3 -3  8]\n",
      " [ 3 -2 -1  6]]\n",
      "[1.3 0.9 0. ]\n"
     ]
    }
   ],
   "source": [
    "import numpy as np \n",
    "m = 10 \n",
    "v1 = np.array([5,-4,3]) \n",
    "v2 = np.array([4,3,-2]) \n",
    "v3 = np.array([-4,-3,-1]) \n",
    "v4 = np.array([-9,8,6]) \n",
    "mi = np.array([2,5,2,1]) \n",
    "M = np.array([v1,v2,v3,v4]) \n",
    "MT = M.transpose() \n",
    "print(MT)\n",
    "v = (1.0/m)*MT.dot(mi)\n",
    "print(v)"
   ]
  },
  {
   "cell_type": "code",
   "execution_count": 24,
   "id": "4b148a07",
   "metadata": {},
   "outputs": [],
   "source": [
    "#Trang 13"
   ]
  },
  {
   "cell_type": "code",
   "execution_count": 25,
   "id": "b282a011",
   "metadata": {},
   "outputs": [
    {
     "name": "stdout",
     "output_type": "stream",
     "text": [
      "⎧   68         ⎫\n",
      "⎨x: ──, y: 1/69⎬\n",
      "⎩   69         ⎭\n"
     ]
    }
   ],
   "source": [
    "import sympy as sym \n",
    "x, y = sym.symbols('x y') \n",
    "xy = sym.Matrix([x,y])\n",
    "A = sym.Matrix([[1, -68],[1,1]]) \n",
    "v = sym.Matrix([0, 1]) \n",
    "nghiem = sym.solve([A*xy-v])    \n",
    "print(sym.pretty(nghiem))"
   ]
  },
  {
   "cell_type": "code",
   "execution_count": 26,
   "id": "9b95efde",
   "metadata": {},
   "outputs": [],
   "source": [
    "#Trang 14"
   ]
  },
  {
   "cell_type": "code",
   "execution_count": 27,
   "id": "b3bc7f51",
   "metadata": {},
   "outputs": [
    {
     "name": "stdout",
     "output_type": "stream",
     "text": [
      "[-7.000, 3.000]\n",
      "[-7, 3]\n"
     ]
    }
   ],
   "source": [
    "import sympy \n",
    "x, y, Lambda = sympy.symbols('x y Lambda') \n",
    "I = sympy.eye(2) \n",
    "A = sympy.Matrix([[2,3],[3,-6]]) \n",
    "phuongtrinh = sympy.Eq(sympy.det(Lambda*I-A), 0) \n",
    "nghiem = sympy.solve(phuongtrinh) \n",
    "print([sympy.N(phantu,4) for phantu in nghiem]) \n",
    "print (sympy.pretty(nghiem))"
   ]
  },
  {
   "cell_type": "code",
   "execution_count": 1,
   "id": "208a1e3a",
   "metadata": {},
   "outputs": [
    {
     "name": "stdout",
     "output_type": "stream",
     "text": [
      "[ 3. -7.]\n",
      "[[ 0.9486833  -0.31622777]\n",
      " [ 0.31622777  0.9486833 ]]\n",
      "\n",
      "Ma trận (A - 3I):\n",
      "[[-1.  3.]\n",
      " [ 3. -9.]]\n",
      "\n",
      "Vector riêng tương ứng với lambda = 3:\n",
      "[[-0.9486833 ]\n",
      " [-0.31622777]]\n"
     ]
    }
   ],
   "source": [
    "import numpy as np\n",
    "A = np.array([[2, 3],\n",
    "              [3, -6]])\n",
    "eigenvalues, eigenvectors = np.linalg.eig(A)\n",
    "print(eigenvalues)\n",
    "print(eigenvectors)\n",
    "lambda_val = 3\n",
    "I = np.eye(A.shape[0])\n",
    "M = A - lambda_val * I\n",
    "print(\"\\nMa trận (A - 3I):\")\n",
    "print(M)\n",
    "from scipy.linalg import null_space\n",
    "null_vecs = null_space(M)\n",
    "print(\"\\nVector riêng tương ứng với lambda = 3:\")\n",
    "print(null_vecs)"
   ]
  },
  {
   "cell_type": "code",
   "execution_count": 28,
   "id": "80230ebb",
   "metadata": {},
   "outputs": [
    {
     "name": "stdout",
     "output_type": "stream",
     "text": [
      "[[-0.3  0.9]\n",
      " [ 0.3  0.1]]\n",
      "[[ 2.33333333  9.        ]\n",
      " [-7.          3.        ]]\n",
      "[[ 2.33333333  9.        ]\n",
      " [-7.          3.        ]]\n",
      "[[49  0]\n",
      " [ 0  9]]\n"
     ]
    }
   ],
   "source": [
    "import numpy as np \n",
    "A = np.array([[2,3],[3,-6]]) \n",
    "D = np.array([[-7,0],[0,3]]) \n",
    "P = np.array([[-1.0/3, 3],[1,1]]) \n",
    "from numpy import linalg \n",
    "from numpy import linalg as LA \n",
    "P1 = LA.inv(P)   # tính giá trị nghịch đảo của P \n",
    "print (P1) \n",
    "print(A.dot(P)) \n",
    "print(P.dot(D))\n",
    "print (D **2)"
   ]
  },
  {
   "cell_type": "markdown",
   "id": "1fa62a28",
   "metadata": {},
   "source": [
    "### BÀI TẬP CHƯƠNG 6"
   ]
  },
  {
   "cell_type": "code",
   "execution_count": 29,
   "id": "a569f54a",
   "metadata": {},
   "outputs": [
    {
     "data": {
      "text/plain": [
       "3.7416573867739413"
      ]
     },
     "execution_count": 29,
     "metadata": {},
     "output_type": "execute_result"
    }
   ],
   "source": [
    "# Câu 1:\n",
    "import numpy as np \n",
    "a = np.array([1,2,3])\n",
    "mag = np.sqrt(a.dot(a)) \n",
    "mag = np.sqrt(a @ a ) \n",
    "mag = np.sqrt(np.inner(a,a)) \n",
    "mag = lambda x : math.sqrt(sum(i** 2 for i in x)) \n",
    "mag(a) "
   ]
  },
  {
   "cell_type": "code",
   "execution_count": 30,
   "id": "45a5c7c5",
   "metadata": {},
   "outputs": [
    {
     "name": "stdout",
     "output_type": "stream",
     "text": [
      "8.660254037844387\n"
     ]
    }
   ],
   "source": [
    "#câu 2:\n",
    "#a\n",
    "u = v1\n",
    "v = v2\n",
    "print(np.linalg.norm(u - v))\n",
    "\n"
   ]
  },
  {
   "cell_type": "code",
   "execution_count": 31,
   "id": "1d995249",
   "metadata": {},
   "outputs": [
    {
     "name": "stdout",
     "output_type": "stream",
     "text": [
      "Góc giữa u và v (radian): 1.518249575314988\n",
      "Góc giữa u và v (độ): 86.98929291307843\n"
     ]
    }
   ],
   "source": [
    "#b\n",
    "import numpy as np\n",
    "u = v1\n",
    "v = v2\n",
    "cos_theta = np.dot(u, v) / (np.linalg.norm(u) * np.linalg.norm(v))\n",
    "theta = np.arccos(cos_theta)\n",
    "print(\"Góc giữa u và v (radian):\", theta)\n",
    "print(\"Góc giữa u và v (độ):\", np.degrees(theta))"
   ]
  },
  {
   "cell_type": "code",
   "execution_count": 32,
   "id": "c8156c7f",
   "metadata": {},
   "outputs": [
    {
     "name": "stdout",
     "output_type": "stream",
     "text": [
      "Phép chiếu trực giao của v lên u: [ 0.27586207  0.20689655 -0.13793103]\n"
     ]
    }
   ],
   "source": [
    "#c\n",
    "import numpy as np\n",
    "u = v1\n",
    "v = v2\n",
    "C = (np.dot(u, v) / np.dot(v, v)) * v\n",
    "print(\"Phép chiếu trực giao của v lên u:\", C)"
   ]
  }
 ],
 "metadata": {
  "kernelspec": {
   "display_name": "Python 3",
   "language": "python",
   "name": "python3"
  },
  "language_info": {
   "codemirror_mode": {
    "name": "ipython",
    "version": 3
   },
   "file_extension": ".py",
   "mimetype": "text/x-python",
   "name": "python",
   "nbconvert_exporter": "python",
   "pygments_lexer": "ipython3",
   "version": "3.13.0"
  }
 },
 "nbformat": 4,
 "nbformat_minor": 5
}
