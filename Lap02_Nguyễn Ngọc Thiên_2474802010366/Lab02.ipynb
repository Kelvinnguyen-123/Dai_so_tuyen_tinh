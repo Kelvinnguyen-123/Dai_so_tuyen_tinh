{
 "cells": [
  {
   "cell_type": "markdown",
   "id": "85671f4f",
   "metadata": {},
   "source": [
    "CHƯƠNG 2: MA TRẬN VÀ HỆ PHƯƠNG TRÌNH TUYẾN\n",
    "TÍNH\n",
    "1. Dẫn nhập – Một số hàm về xử lý vector với Python "
   ]
  },
  {
   "cell_type": "markdown",
   "id": "cfe7c2eb",
   "metadata": {},
   "source": [
    "Hàm “scale” tỉ số vector bằng một giá trị thực: $\\vec{v} =(a,b) \\Rightarrow k\\vec{v} = (ka,kb)$\n"
   ]
  },
  {
   "cell_type": "code",
   "execution_count": 2,
   "id": "f33a00df",
   "metadata": {},
   "outputs": [
    {
     "name": "stdout",
     "output_type": "stream",
     "text": [
      "Vector sau khi scale: [30, 50, 70]\n"
     ]
    }
   ],
   "source": [
    "def scale(a, v):\n",
    "    return [a * vi for vi in v]\n",
    "v = [3, 5, 7]\n",
    "print(\"Vector sau khi scale:\", scaled_v)"
   ]
  },
  {
   "cell_type": "markdown",
   "id": "68d580ef",
   "metadata": {},
   "source": [
    "Hàm lấy tổng hai vector: $\\vec{v} = (a, b),\\ \\vec{w} = (c, d) \\Rightarrow \\vec{v} + \\vec{w} = (a + c,\\ b + d)$"
   ]
  },
  {
   "cell_type": "code",
   "execution_count": 3,
   "id": "eb02f702",
   "metadata": {},
   "outputs": [
    {
     "name": "stdout",
     "output_type": "stream",
     "text": [
      "Tổng hai vector: [5, 9, 13]\n"
     ]
    }
   ],
   "source": [
    "def sumvector(v, w):\n",
    "    return [vi + wi for vi, wi in zip(v, w)]\n",
    "v = [3, 5, 7]\n",
    "w = [2, 4, 6]\n",
    "sum_v_w = sumvector(v, w)\n",
    "print(\"Tổng hai vector:\", sum_v_w)"
   ]
  },
  {
   "cell_type": "markdown",
   "id": "bd4d6822",
   "metadata": {},
   "source": [
    "Hàm nhân 2 vector vô hướng: $\\vec{u} = (a, b),\\ \\vec{v} = (c, d) \\Rightarrow \\vec{u} \\cdot \\vec{v} = a \\times c + b \\times d$\n"
   ]
  },
  {
   "cell_type": "code",
   "execution_count": 4,
   "id": "710715ba",
   "metadata": {},
   "outputs": [
    {
     "name": "stdout",
     "output_type": "stream",
     "text": [
      "Tích vô hướng: 68\n"
     ]
    }
   ],
   "source": [
    "def dotvector(v, w):\n",
    "    return sum(vi * wi for vi, wi in zip(v, w))\n",
    "v = [3, 5, 7]\n",
    "w = [2, 4, 6]\n",
    "dot_v_w = dotvector(v, w)\n",
    "print(\"Tích vô hướng:\", dot_v_w)"
   ]
  },
  {
   "cell_type": "markdown",
   "id": "1564301c",
   "metadata": {},
   "source": [
    "Hàm tính chiều dài một vector: $\\vec{u} = (a, b) \\Rightarrow \\vec{u} \\cdot \\vec{u} = a^2 + b^2 \\Rightarrow |\\vec{u}| = \\sqrt{a^2 + b^2}$\n"
   ]
  },
  {
   "cell_type": "code",
   "execution_count": 5,
   "id": "7087fd6f",
   "metadata": {},
   "outputs": [
    {
     "name": "stdout",
     "output_type": "stream",
     "text": [
      "Độ dài vector v: 9.1104335791443\n"
     ]
    }
   ],
   "source": [
    "def lengthvector(v):\n",
    "    return dotvector(v, v) ** 0.5\n",
    "v = [3, 5, 7]\n",
    "length_v = lengthvector(v)\n",
    "print(\"Độ dài vector v:\", length_v)"
   ]
  },
  {
   "cell_type": "markdown",
   "id": "c045f688",
   "metadata": {},
   "source": [
    "2. Bài toán ứng dụng 1 – Phân loại tuyến tính"
   ]
  },
  {
   "cell_type": "markdown",
   "id": "a4a4b747",
   "metadata": {},
   "source": [
    "- Chúng ta thử nghiệm các đoạn lệnh dưới đây để thấy khả năng xử lý của Python với một phân\n",
    "loại tuyến tính: "
   ]
  },
  {
   "cell_type": "code",
   "execution_count": 2,
   "id": "354c4e3c",
   "metadata": {},
   "outputs": [
    {
     "data": {
      "text/plain": [
       "array([False,  True,  True, False,  True, False])"
      ]
     },
     "execution_count": 2,
     "metadata": {},
     "output_type": "execute_result"
    }
   ],
   "source": [
    "import numpy as np\n",
    "scores = np.array([-1, 1, 2, -3, 5, -4]) \n",
    "scores >= 0"
   ]
  },
  {
   "cell_type": "code",
   "execution_count": 3,
   "id": "9eac9770",
   "metadata": {},
   "outputs": [
    {
     "data": {
      "text/plain": [
       "array([False,  True,  True, False,  True, False])"
      ]
     },
     "execution_count": 3,
     "metadata": {},
     "output_type": "execute_result"
    }
   ],
   "source": [
    "scores >= 0 "
   ]
  },
  {
   "cell_type": "code",
   "execution_count": 4,
   "id": "8edb88ad",
   "metadata": {},
   "outputs": [
    {
     "data": {
      "text/plain": [
       "array([ True, False, False,  True, False,  True])"
      ]
     },
     "execution_count": 4,
     "metadata": {},
     "output_type": "execute_result"
    }
   ],
   "source": [
    "scores < 0 "
   ]
  },
  {
   "cell_type": "code",
   "execution_count": 10,
   "id": "6b92a43a",
   "metadata": {},
   "outputs": [
    {
     "data": {
      "text/plain": [
       "array(['số âm', 'số dương', 'số dương', 'số dương', 'số âm', 'số dương',\n",
       "       'số dương', 'số âm'], dtype='<U14')"
      ]
     },
     "execution_count": 10,
     "metadata": {},
     "output_type": "execute_result"
    }
   ],
   "source": [
    "np.select([scores >= 0, scores < 0], ['số dương', 'số âm'], default='không xác định')"
   ]
  },
  {
   "cell_type": "code",
   "execution_count": 9,
   "id": "7b30a215",
   "metadata": {},
   "outputs": [
    {
     "data": {
      "text/plain": [
       "array(['số âm', 'số dương', 'số dương', 'số 0', 'số âm', 'số dương',\n",
       "       'số 0', 'số âm'], dtype='<U14')"
      ]
     },
     "execution_count": 9,
     "metadata": {},
     "output_type": "execute_result"
    }
   ],
   "source": [
    "scores = np.array([-1, 1, 2, 0, -3, 5, 0, -4])\n",
    "np.select([scores > 0, scores == 0, scores < 0], ['số dương', 'số 0', 'số âm'], default='không xác định')"
   ]
  },
  {
   "cell_type": "markdown",
   "id": "0a09e2a4",
   "metadata": {},
   "source": [
    "BÀI TẬP CHƯƠNG 2 \n",
    "\n",
    "Câu 1: Hãy sử dụng numpy để giải các phương trình sau: "
   ]
  },
  {
   "cell_type": "markdown",
   "id": "0a855e29",
   "metadata": {},
   "source": [
    "Vấn đề 1 (Problem 1): Tìm điểm giao giữa hai đường thẳng trong R^2"
   ]
  },
  {
   "cell_type": "code",
   "execution_count": 13,
   "id": "f3953745",
   "metadata": {},
   "outputs": [
    {
     "name": "stdout",
     "output_type": "stream",
     "text": [
      "Điểm giao trong R^2: [ 6. -2.]\n"
     ]
    }
   ],
   "source": [
    "import numpy as np\n",
    "A = np.array([[0, 1], [2, 3]])\n",
    "b = np.array([-2, 6])\n",
    "solution_bai1 = np.linalg.solve(A, b)\n",
    "print(\"Điểm giao trong R^2:\", solution_bai1)"
   ]
  },
  {
   "cell_type": "markdown",
   "id": "75a4867b",
   "metadata": {},
   "source": [
    "Vấn đề 2 (Problem 2): Tìm giao điểm giữa ba mặt phẳng trong ℝ^3"
   ]
  },
  {
   "cell_type": "code",
   "execution_count": 14,
   "id": "06f72aac",
   "metadata": {},
   "outputs": [
    {
     "name": "stdout",
     "output_type": "stream",
     "text": [
      "Điểm giao trong R^3: [-1.  1.  6.]\n"
     ]
    }
   ],
   "source": [
    "A = np.array([[1, -1, 0], [2, -1, 0], [1, 1, 1]])\n",
    "b = np.array([-2, -3, 6])\n",
    "solution_bai2 = np.linalg.solve(A, b)\n",
    "print(\"Điểm giao trong R^3:\", solution_bai2)"
   ]
  },
  {
   "cell_type": "markdown",
   "id": "afd3d5c1",
   "metadata": {},
   "source": [
    "Vấn đề 3 (Problem 3): Tìm các hệ số đa thức để đa thức thỏa các nghiệm."
   ]
  },
  {
   "cell_type": "code",
   "execution_count": 15,
   "id": "d07095df",
   "metadata": {},
   "outputs": [
    {
     "name": "stdout",
     "output_type": "stream",
     "text": [
      "Hệ số đa thức bậc 2: a = 1.0000000000000004 , b = -4.000000000000001 , c = 7.000000000000001\n"
     ]
    }
   ],
   "source": [
    "A = np.array([[1**2, 1, 1], [2**2, 2, 1], [3**2, 3, 1]])\n",
    "b = np.array([4, 3, 4])\n",
    "coefficients = np.linalg.solve(A, b)\n",
    "a, b_coeff, c = coefficients\n",
    "print(\"Hệ số đa thức bậc 2: a =\", a, \", b =\", b_coeff, \", c =\", c)"
   ]
  },
  {
   "cell_type": "markdown",
   "id": "1fdffa3a",
   "metadata": {},
   "source": [
    "Vấn đề 4 (Problem 4)Tìm các hệ đa thức khi phân rã để tính tích phân."
   ]
  },
  {
   "cell_type": "code",
   "execution_count": null,
   "id": "eab4c084",
   "metadata": {},
   "outputs": [],
   "source": [
    "from scipy.integrate import quad\n",
    "\n",
    "def integrand(x):\n",
    "    return x * (x - 3) / (x**2 + 2)\n",
    "\n",
    "result, error = quad(integrand, 1, 2)\n",
    "print(\"Kết quả tích phân:\", result)"
   ]
  },
  {
   "cell_type": "markdown",
   "id": "34864b4d",
   "metadata": {},
   "source": [
    "Câu 2: Hãy viết các câu lệnh của sympy để giải các phương trình ở Câu 1. "
   ]
  },
  {
   "cell_type": "code",
   "execution_count": null,
   "id": "477e7bd3",
   "metadata": {},
   "outputs": [],
   "source": [
    "import numpy as np\n",
    "from scipy.special import comb\n",
    "from scipy.integrate import quad\n",
    "import sympy as sp\n",
    "\n",
    "x, y = sp.symbols('x y')\n",
    "equ1 = sp.Eq(x, y)\n",
    "equ2 = sp.Eq(2*x + 3*y, 6)\n",
    "solution = sp.solve([equ1, equ2], (x, y))\n",
    "print(\"Nghiệm hệ phương trình trong R^2:\", solution)"
   ]
  },
  {
   "cell_type": "markdown",
   "id": "3bfa6f7b",
   "metadata": {},
   "source": [
    "Câu 3: Tính lũy thừa bậc k của ma trận _` = \u001c\\ \\\n",
    "\\ a\u001f\n",
    "`\n",
    "và chứng minh ma trận _` chứa 3 phần\n",
    "tử của I9\u0007\u0015bc-, I9\u0007\u0015b và I9\u0007\u0015bJ- của dãy Fibonacci (bắt đầu bằng 0 từ phần tử 0)"
   ]
  },
  {
   "cell_type": "code",
   "execution_count": 20,
   "id": "c9eb17eb",
   "metadata": {},
   "outputs": [
    {
     "name": "stdout",
     "output_type": "stream",
     "text": [
      "Ma trận F_3^{3}:\n",
      "[[3 2]\n",
      " [2 1]]\n",
      "Các phần tử của dãy Fibonacci bắt đầu từ 0 đến index 4 : [0, 1, 1, 2]\n",
      "Tổng các phần tử của dãy Fibonacci đến index 4 : 4\n"
     ]
    }
   ],
   "source": [
    "import numpy as np\n",
    "\n",
    "def fibonacci(n):\n",
    "    fib = [0, 1]\n",
    "    for i in range(2, n):\n",
    "        fib.append(fib[-1] + fib[-2])\n",
    "    return fib\n",
    "k = 3  \n",
    "F_k = np.array([[1, 1], [1, 0]])  \n",
    "F_k_power = np.linalg.matrix_power(F_k, k)\n",
    "print(f\"Ma trận F_{k}^{{{k}}}:\\n{F_k_power}\")\n",
    "fib_sequence = fibonacci(k+1)  \n",
    "print(\"Các phần tử của dãy Fibonacci bắt đầu từ 0 đến index\", k+1, \":\", fib_sequence)\n",
    "sum_fib = sum(fib_sequence)\n",
    "print(\"Tổng các phần tử của dãy Fibonacci đến index\", k+1, \":\", sum_fib)"
   ]
  }
 ],
 "metadata": {
  "kernelspec": {
   "display_name": "Python 3",
   "language": "python",
   "name": "python3"
  },
  "language_info": {
   "codemirror_mode": {
    "name": "ipython",
    "version": 3
   },
   "file_extension": ".py",
   "mimetype": "text/x-python",
   "name": "python",
   "nbconvert_exporter": "python",
   "pygments_lexer": "ipython3",
   "version": "3.13.1"
  }
 },
 "nbformat": 4,
 "nbformat_minor": 5
}
