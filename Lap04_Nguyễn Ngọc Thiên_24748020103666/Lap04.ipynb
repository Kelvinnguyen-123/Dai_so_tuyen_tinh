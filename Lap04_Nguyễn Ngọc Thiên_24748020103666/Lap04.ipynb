{
 "cells": [
  {
   "cell_type": "code",
   "execution_count": 12,
   "id": "84ee606e",
   "metadata": {},
   "outputs": [
    {
     "name": "stdout",
     "output_type": "stream",
     "text": [
      "-1\n",
      "1\n",
      "-1\n"
     ]
    }
   ],
   "source": [
    "import numpy as np\n",
    "n =4\n",
    "x = np.array(range(1, n+1))\n",
    "sigma = np.array([4,3,2,1])\n",
    "def sgn_by_def(sigma):\n",
    "    ket_qua = 1.0\n",
    "    for i in range (len(x)-1):\n",
    "        for j in range(i +1, len(x)):\n",
    "            ket_qua = ket_qua * ((x[i] - x[j])/(sigma[i] - sigma[j]))\n",
    "            return int(ket_qua)\n",
    "sigma = np.array([2,1,3,4])\n",
    "print(sgn_by_def(sigma))\n",
    "sigma1 = np.array([1,2,3,4]) \n",
    "print(sgn_by_def(sigma1))\n",
    "sigma2 = np.array([4,3,2,1])\n",
    "print(sgn_by_def(sigma2))"
   ]
  },
  {
   "cell_type": "code",
   "execution_count": 13,
   "id": "af0f4a9a",
   "metadata": {},
   "outputs": [
    {
     "name": "stdout",
     "output_type": "stream",
     "text": [
      "[(1, 2, 3), (1, 3, 2), (2, 1, 3), (2, 3, 1), (3, 1, 2), (3, 2, 1)]\n"
     ]
    }
   ],
   "source": [
    "from itertools import permutations\n",
    "n= 3\n",
    "x=[]\n",
    "for i in range(1,n+1):\n",
    "    x. append(i)\n",
    "Sn = list(permutations(x))\n",
    "print(Sn)"
   ]
  },
  {
   "cell_type": "code",
   "execution_count": 14,
   "id": "409cd10e",
   "metadata": {},
   "outputs": [
    {
     "name": "stdout",
     "output_type": "stream",
     "text": [
      " + a11a22- a12a21\n",
      " + a11a22a33- a11a23a32- a12a21a33+ a13a21a32- a12a23a31- a13a22a31\n"
     ]
    }
   ],
   "source": [
    "def phatsinh_dinhthuc(n):\n",
    "    x = []\n",
    "    for i in range (1,n+1):\n",
    "        x.append(i)\n",
    "    Sn = list(permutations(x))\n",
    "    dinhthuc =\" \"\n",
    "    for sn in Sn:\n",
    "        sigma = np.array(1)\n",
    "        sigma.resize([n])\n",
    "        product= \" \"\n",
    "        for i in range(1, n+1):\n",
    "            sigma[sn.index(i)] = i\n",
    "            product = product + \"a\" + str(i) + str(sn.index(i)+1)\n",
    "        dau = sgn_by_def(sigma)\n",
    "        if (dau !=1):\n",
    "            product = \"-\"+product\n",
    "        else:\n",
    "            product = \"+\"+product\n",
    "        dinhthuc = dinhthuc + product\n",
    "    return dinhthuc\n",
    "print(phatsinh_dinhthuc(2))\n",
    "print(phatsinh_dinhthuc(3))"
   ]
  },
  {
   "cell_type": "code",
   "execution_count": 15,
   "id": "f35e91d9",
   "metadata": {},
   "outputs": [
    {
     "name": "stdout",
     "output_type": "stream",
     "text": [
      "80\n"
     ]
    }
   ],
   "source": [
    "def tinhtoan_dinhthuc(A):\n",
    "    x = []\n",
    "    import math\n",
    "    n =  int(math.sqrt(A.size))\n",
    "    for i in range(1, n+1):\n",
    "        x.append(i)\n",
    "    Sn = list(permutations(x))\n",
    "    dinhthuc = 0\n",
    "    for sn in Sn:\n",
    "        sigma = np.array(1)\n",
    "        sigma.resize([n])\n",
    "        product = 1\n",
    "        for i in range(1, n+1):\n",
    "            sigma[sn.index(i)] = i\n",
    "            product *= A[i-1][sn.index(i)]\n",
    "        dau = sgn_by_def(sigma)\n",
    "        dinhthuc += dau * product\n",
    "\n",
    "    return dinhthuc\n",
    "A = np.array([ [3,5,-8], [4, 12, -1], [2,5,3] ]) \n",
    "print(tinhtoan_dinhthuc(A))"
   ]
  },
  {
   "cell_type": "code",
   "execution_count": null,
   "id": "69ba382e",
   "metadata": {},
   "outputs": [
    {
     "name": "stdout",
     "output_type": "stream",
     "text": [
      "-14.0 -28.0 14.000000000000004\n",
      "Hai nghiệm của phương trình là: 2.0 -1.0000000000000002\n",
      "Đinjh thức của ma trận A là: -14.0\n",
      "Định thức của ma trận A1 là: -28.0\n",
      "Định thức của ma trận A2: 14.000000000000004\n"
     ]
    }
   ],
   "source": [
    "import numpy as np\n",
    "A = np.array([[4, -2],[3, -5]]) \n",
    "A1 = np.array([[10, -2],[11, -5]]) \n",
    "A2 = np.array([[4,10],[3,11]])\n",
    "from scipy import linalg\n",
    "detA= linalg.det(A)\n",
    "detA1 = linalg.det(A1)\n",
    "detA2 = linalg.det(A2)\n",
    "print(detA, detA1, detA2)\n",
    "if (detA !=0):\n",
    "    x1 = detA1/detA\n",
    "    x2 = detA2/detA\n",
    "    print('Hai nghiệm của phương trình là:', x1, x2)\n",
    "def tinhtoan_dinhthuc(A,A1,A2):\n",
    "    detA= linalg.det(A)\n",
    "    detA1 = linalg.det(A1)\n",
    "    detA2 = linalg.det(A2)\n",
    "tinhtoan_dinhthuc(A,A1,A2)\n",
    "print(\"Định thức của ma trận A là:\", detA)\n",
    "print(\"Định thức của ma trận A1 là:\", detA1)\n",
    "print(\"Định thức của ma trận A2:\", detA2)\n",
    "if(detA!=0):\n",
    "    x = detA1 / detA\n",
    "    y = detA2 / detA\n",
    "    print(\"Nghiệm theo hàm tự viết: x =\", x, \", y =\", y)\n",
    "else:\n",
    "    print(\"Hệ phương trình vô nghiệm hoặc vô số nghiệm.\")\n"
   ]
  },
  {
   "cell_type": "code",
   "execution_count": null,
   "id": "03c3503c",
   "metadata": {},
   "outputs": [],
   "source": [
    "import sympy as sp\n",
    "TG = sp.Matrix([\n",
    "    [1, 0, 1],\n",
    "    [4, 3, 1],\n",
    "    [2, 2, 1]\n",
    "])\n",
    "area = sp.Rational(1, 2) * abs(TG.det())\n",
    "print(\"Diện tích tam giác là:\", area)"
   ]
  },
  {
   "cell_type": "code",
   "execution_count": null,
   "id": "408cc2c0",
   "metadata": {},
   "outputs": [],
   "source": [
    "from sympy import Matrix\n",
    "M = Matrix([\n",
    "    [0, 4, 1, 1],\n",
    "    [4, 0, 0, 1],\n",
    "    [3, 5, 2, 1],\n",
    "    [2, 2, 5, 1]\n",
    "])\n",
    "\n",
    "det = M.det()\n",
    "volume = abs(1/6 * det)\n",
    "print(\"Determinant:\", det)\n",
    "print(\"Tetrahedron volume:\", volume)"
   ]
  },
  {
   "cell_type": "code",
   "execution_count": null,
   "id": "637795e1",
   "metadata": {},
   "outputs": [],
   "source": [
    "from sympy import *\n",
    "x, y, z = symbols('x y z')\n",
    "MP = Matrix([\n",
    "    [x, y, z, 1],\n",
    "    [-1, 3, 2, 1],\n",
    "    [0, 1, 0, 1],\n",
    "    [-2, 0, 1, 1]\n",
    "])\n",
    "phuong_trinh = simplify(MP.det())\n",
    "print(\"Phương trình mặt phẳng là:\", Eq(phuong_trinh, 0))"
   ]
  },
  {
   "cell_type": "markdown",
   "id": "476cd217",
   "metadata": {},
   "source": [
    "### BÀI TẬP CHƯƠNG 4"
   ]
  },
  {
   "cell_type": "code",
   "execution_count": null,
   "id": "4a305aa5",
   "metadata": {},
   "outputs": [],
   "source": [
    "#Câu 1\n",
    "from sympy import *\n",
    "A = Matrix([[2, 3, 1],\n",
    "            [4, 1, 5],\n",
    "            [7, 2, 6]])\n",
    "cof = A.cofactor_matrix()\n",
    "print(\"Ma trận hệ số kẹp (Cofactor):\")\n",
    "pprint(cof)\n",
    "adj = A.adjugate()\n",
    "print(\"\\nMa trận liên hợp (Adjoint):\")\n",
    "pprint(adj)"
   ]
  },
  {
   "cell_type": "code",
   "execution_count": null,
   "id": "36a8cbaa",
   "metadata": {},
   "outputs": [],
   "source": [
    "#Câu 2\n",
    "from sympy import *\n",
    "x, y = symbols('x y')\n",
    "\n",
    "x1, y1 = 1, 1\n",
    "x2, y2 = 4, 2\n",
    "x3, y3 = 3, 5\n",
    "\n",
    "def sq(a, b):\n",
    "    return a**2 + b**2\n",
    "circle_matrix = Matrix([\n",
    "    [x**2 + y**2, x, y, 1],\n",
    "    [sq(x1, y1), x1, y1, 1],\n",
    "    [sq(x2, y2), x2, y2, 1],\n",
    "    [sq(x3, y3), x3, y3, 1]\n",
    "])\n",
    "circle_equation = simplify(circle_matrix.det())\n",
    "\n",
    "print(\"Phương trình đường tròn là:\")\n",
    "pprint(Eq(circle_equation, 0))"
   ]
  }
 ],
 "metadata": {
  "kernelspec": {
   "display_name": "Python 3",
   "language": "python",
   "name": "python3"
  },
  "language_info": {
   "codemirror_mode": {
    "name": "ipython",
    "version": 3
   },
   "file_extension": ".py",
   "mimetype": "text/x-python",
   "name": "python",
   "nbconvert_exporter": "python",
   "pygments_lexer": "ipython3",
   "version": "3.13.0"
  }
 },
 "nbformat": 4,
 "nbformat_minor": 5
}
